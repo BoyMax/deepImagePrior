{
 "cells": [
  {
   "cell_type": "code",
   "execution_count": 4,
   "metadata": {},
   "outputs": [],
   "source": [
    "import numpy as np\n",
    "import torch\n",
    "import torch.nn as nn \n",
    "\n",
    "import matplotlib.pyplot as plt\n",
    "import matplotlib.image as mpimg\n",
    "import scipy.io\n",
    "from utils.sr_utils import *\n",
    "from models import *\n",
    "\n",
    "\n",
    "class BiConvolution(nn.Module):\n",
    "    '''\n",
    "        http://www.realitypixels.com/turk/computergraphics/ResamplingFilters.pdf\n",
    "    '''\n",
    "    def __init__(self, n_planes, kernel_type, kernel_path, preserve_size=False):\n",
    "        super(Convolution, self).__init__()\n",
    "        \n",
    "        if kernel_type ==  'udf':  # user_defined\n",
    "            kernel_type_ = 'udf'\n",
    "\n",
    "        else:\n",
    "            assert False, 'wrong name kernel'\n",
    "            \n",
    "        self.kernel = load_kernel(kernel_type, kernel_path)\n",
    "        \n",
    "        convolution = nn.Conv2d(n_planes, n_planes, kernel_size=self.kernel.shape, stride=1, padding=0)\n",
    "        convolution.weight.data[:] = 0\n",
    "        convolution.bias.data[:] = 0\n",
    "\n",
    "        kernel_torch = torch.from_numpy(self.kernel)\n",
    "        for i in range(n_planes):\n",
    "            convolution.weight.data[i, i] = kernel_torch       \n",
    "        self.convolution_ = convolution\n",
    "\n",
    "        if preserve_size:\n",
    "\n",
    "            if  self.kernel.shape[0] % 2 == 1: \n",
    "                pad = int((self.kernel.shape[0] - 1) / 2.)\n",
    "            else:\n",
    "                pad = int((self.kernel.shape[0] - 1) / 2.)\n",
    "                \n",
    "            self.padding = nn.ReflectionPad2d(pad)\n",
    "        \n",
    "        self.preserve_size = preserve_size\n",
    "    \n",
    "    def forward(self, input):\n",
    "        if self.preserve_size:\n",
    "            x = self.padding(input)\n",
    "        else:\n",
    "            x= input\n",
    "        self.x = x\n",
    "        return self.convolution_(x)\n",
    "    def load_kernel(kernel_type,kernel_path):\n",
    "        img_k_pil, img_k_np = get_image(kernel_path, -1)\n",
    "        return img_k_np\n",
    "        "
   ]
  },
  {
   "cell_type": "code",
   "execution_count": null,
   "metadata": {},
   "outputs": [],
   "source": []
  }
 ],
 "metadata": {
  "kernelspec": {
   "display_name": "Python 3",
   "language": "python",
   "name": "python3"
  },
  "language_info": {
   "codemirror_mode": {
    "name": "ipython",
    "version": 3
   },
   "file_extension": ".py",
   "mimetype": "text/x-python",
   "name": "python",
   "nbconvert_exporter": "python",
   "pygments_lexer": "ipython3",
   "version": "3.6.5"
  }
 },
 "nbformat": 4,
 "nbformat_minor": 2
}
