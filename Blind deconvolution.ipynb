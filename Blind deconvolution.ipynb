{
 "cells": [
  {
   "cell_type": "code",
   "execution_count": 7,
   "metadata": {},
   "outputs": [],
   "source": [
    "from __future__ import print_function\n",
    "import matplotlib.pyplot as plt\n",
    "%matplotlib inline\n",
    "\n",
    "import argparse\n",
    "import os\n",
    "os.environ['CUDA_VISIBLE_DEVICES'] = '0'\n",
    "\n",
    "import numpy as np\n",
    "from models import *\n",
    "\n",
    "import torch\n",
    "import torch.optim\n",
    "\n",
    "from skimage.measure import compare_psnr\n",
    "from models.blindconvolution import BiConvolution\n",
    "\n",
    "from utils.sr_utils import *\n",
    "\n",
    "torch.backends.cudnn.enabled = False\n",
    "torch.backends.cudnn.benchmark =False\n",
    "#dtype = torch.cuda.FloatTensor\n",
    "dtype = torch.FloatTensor\n"
   ]
  },
  {
   "cell_type": "code",
   "execution_count": null,
   "metadata": {},
   "outputs": [],
   "source": [
    "# Starts here\n",
    "path_LR_image = 'data/sr/images/Cameraman256_gauss.png'\n",
    "path_HR_image = 'data/sr/images/Cameraman256.png'\n",
    "kernel_path ='data/sr/images/kernel_gauss.png'\n",
    "img_k_pil, img_k_np = get_image(kernel_path, -1)\n",
    "img_lr_pil, img_lr_np = get_image(path_LR_image, -1)\n",
    "img_hr_pil, img_hr_np = get_image(path_HR_image, -1)\n",
    "plot_image_grid([img_lr_np,img_hr_np])\n",
    "img_k_np.shape"
   ]
  },
  {
   "cell_type": "code",
   "execution_count": null,
   "metadata": {},
   "outputs": [],
   "source": [
    "input_depth = 32\n",
    " \n",
    "INPUT =     'noise'\n",
    "pad   =     'reflection'\n",
    "OPT_OVER =  'net'\n",
    "KERNEL_TYPE='udf'\n",
    "kernel_path ='data/sr/kernel_gauss.png'\n",
    "\n",
    "LR = 0.01\n",
    "tv_weight = 0.0\n",
    "\n",
    "OPTIMIZER = 'adam'\n",
    "\n",
    "PLOT = True\n"
   ]
  },
  {
   "cell_type": "code",
   "execution_count": null,
   "metadata": {},
   "outputs": [],
   "source": [
    "net_input = get_noise(input_depth, INPUT, (img_hr_pil.size[1], img_hr_pil.size[0])).type(dtype).detach()\n",
    "net_input_kernel= get_noise(input_depth, INPUT, (img_k_pil.size[1], img_k_pil.size[0])).type(dtype).detach()\n",
    "\n",
    "\n",
    "NET_TYPE = 'skip' # UNet, ResNet\n",
    "net = get_net(input_depth, 'skip', pad, n_channels=1, skip_n33d=128, skip_n33u=128, skip_n11=4, \n",
    "              num_scales=5, upsample_mode='bilinear').type(dtype)\n",
    "net_kernel = biget_net(input_depth, 'skip', pad, n_channels=1, skip_n33d=128, skip_n33u=128, skip_n11=4, \n",
    "              num_scales=5, upsample_mode='bilinear').type(dtype)\n",
    "\n",
    "out_kernel = net_kernel(net_input_kernel)\n",
    "out_kernel = out_kernel.squeeze(dim=1)\n",
    "out_kernel = out_kernel.squeeze(dim=0)\n",
    "out_kernel_np = out_kernel.detach().numpy()\n",
    "# Losses\n",
    "mse = torch.nn.MSELoss().type(dtype)\n",
    "img_LR_var = np_to_torch(img_lr_np).type(dtype)\n",
    "img_k_var = np_to_torch(img_k_np).type(dtype)\n",
    "biconvolution = BiConvolution(n_planes=1, kernel_type=KERNEL_TYPE, kernel_path=kernel_path,kernel=out_kernel_np,preserve_size=True).type(dtype)\n",
    "out_HR = net(net_input)\n",
    "out_LR = biconvolution(out_HR)\n",
    "\n",
    "out_kernel.type"
   ]
  },
  {
   "cell_type": "code",
   "execution_count": null,
   "metadata": {},
   "outputs": [],
   "source": [
    "def closure():\n",
    "    global i, net_input\n",
    "    \n",
    "    reg_noise_std = 0.01\n",
    "    net_input = net_input_saved + (noise.normal_() * reg_noise_std)\n",
    "\n",
    "    out_HR = net(net_input)\n",
    "    out_kernel = net_kernel(net_input_kernel)\n",
    "    print('out_HR', torch_to_np(out_HR).shape)\n",
    "    out_LR = biconvolution(out_HR)\n",
    "\n",
    "    total_loss = mse(out_LR, img_LR_var) \n",
    "    \n",
    "    if tv_weight > 0:\n",
    "        total_loss += tv_weight * tv_loss(out_HR)\n",
    "        \n",
    "    total_loss.backward()\n",
    "\n",
    "    # Log\n",
    "    psnr_LR = compare_psnr(img_lr_np, torch_to_np(out_LR))\n",
    "    psnr_HR = compare_psnr(img_hr_np, torch_to_np(out_HR))\n",
    "    print ('Iteration %05d    PSNR_LR %.3f   PSNR_HR %.3f' % (i, psnr_LR, psnr_HR), '\\r', end='')\n",
    "                      \n",
    "    # History\n",
    "    psnr_history.append([psnr_LR, psnr_HR])\n",
    "    \n",
    "    if PLOT and i % 100 == 0:\n",
    "        out_HR_np = torch_to_np(out_HR)\n",
    "        plot_image_grid([img_hr_np, np.clip(out_HR_np, 0, 1)], factor=13, nrow=3)\n",
    "\n",
    "    i += 1\n",
    "    \n",
    "    return total_loss"
   ]
  },
  {
   "cell_type": "code",
   "execution_count": null,
   "metadata": {},
   "outputs": [],
   "source": [
    "psnr_history = [] \n",
    "net_input_saved = net_input.detach().clone()\n",
    "noise = net_input.detach().clone()\n",
    "\n",
    "i = 0\n",
    "num_iter=5000\n",
    "reg_noise_std = 0.03\n",
    "p = get_params(OPT_OVER, net, net_input)\n",
    "optimize(OPTIMIZER, p, closure, LR, num_iter)"
   ]
  },
  {
   "cell_type": "code",
   "execution_count": null,
   "metadata": {},
   "outputs": [],
   "source": []
  }
 ],
 "metadata": {
  "kernelspec": {
   "display_name": "Python 3",
   "language": "python",
   "name": "python3"
  },
  "language_info": {
   "codemirror_mode": {
    "name": "ipython",
    "version": 3
   },
   "file_extension": ".py",
   "mimetype": "text/x-python",
   "name": "python",
   "nbconvert_exporter": "python",
   "pygments_lexer": "ipython3",
   "version": "3.6.5"
  }
 },
 "nbformat": 4,
 "nbformat_minor": 2
}
