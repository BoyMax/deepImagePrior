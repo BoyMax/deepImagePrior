{
 "cells": [
  {
   "cell_type": "code",
   "execution_count": 1,
   "metadata": {},
   "outputs": [],
   "source": [
    "from __future__ import print_function\n",
    "import matplotlib.pyplot as plt\n",
    "%matplotlib inline\n",
    "\n",
    "import argparse\n",
    "import os\n",
    "os.environ['CUDA_VISIBLE_DEVICES'] = '0'\n",
    "\n",
    "import numpy as np\n",
    "from models import *\n",
    "\n",
    "import torch\n",
    "import torch.optim\n",
    "\n",
    "from skimage.measure import compare_psnr\n",
    "from models.blindconvolution import BiConvolution\n",
    "\n",
    "from utils.sr_utils import *\n",
    "\n",
    "torch.backends.cudnn.enabled = True\n",
    "torch.backends.cudnn.benchmark = True\n",
    "dtype = torch.cuda.FloatTensor\n",
    "#dtype = torch.FloatTensor\n"
   ]
  },
  {
   "cell_type": "code",
   "execution_count": 60,
   "metadata": {},
   "outputs": [],
   "source": [
    "import numpy as np\n",
    "\n",
    "result = np.load('result_blindLena512defocus.npy').item() #for lena512/Cameraman256 for Gauss and Defocus\n",
    "result2 = np.load('result_blindhouse256defocus.npy').item() #for boat512/house256 for Gauss and Defocus\n",
    "result3 = np.load('result_blindCameraman256motion.npy').item() #for cameraman256/lena512 for motion\n",
    "result4= np.load('result_blindhouse256motion.npy').item() #for cameraman256/lena512 for motion\n",
    "#img_lr_np =result['house256']['motion']['info']['X']\n",
    "#img_hr_np = img_lr_np\n",
    "#plot_image_grid([img_lr_np,img_hr_np])\n",
    "result['boat512'] = result2['boat512']\n",
    "result['house256'] = result2['house256']\n",
    "result['boat512']['motion']=result4['boat512']['motion']\n",
    "result['house256']['motion']=result4['house256']['motion']\n",
    "result['Cameraman256']['motion']=result3['Cameraman256']['motion']\n",
    "result['Lena512']['motion']=result3['Lena512']['motion']"
   ]
  },
  {
   "cell_type": "code",
   "execution_count": 65,
   "metadata": {},
   "outputs": [],
   "source": [
    "np.save('result_blind_grey.npy',result)"
   ]
  },
  {
   "cell_type": "code",
   "execution_count": 66,
   "metadata": {},
   "outputs": [
    {
     "data": {
      "text/plain": [
       "dict_keys(['gauss', 'defocus', 'motion'])"
      ]
     },
     "execution_count": 66,
     "metadata": {},
     "output_type": "execute_result"
    }
   ],
   "source": [
    "result['boat512'].keys()\n"
   ]
  },
  {
   "cell_type": "code",
   "execution_count": null,
   "metadata": {},
   "outputs": [],
   "source": []
  }
 ],
 "metadata": {
  "kernelspec": {
   "display_name": "Python 3",
   "language": "python",
   "name": "python3"
  },
  "language_info": {
   "codemirror_mode": {
    "name": "ipython",
    "version": 3
   },
   "file_extension": ".py",
   "mimetype": "text/x-python",
   "name": "python",
   "nbconvert_exporter": "python",
   "pygments_lexer": "ipython3",
   "version": "3.6.8"
  }
 },
 "nbformat": 4,
 "nbformat_minor": 2
}
