{
 "cells": [
  {
   "cell_type": "markdown",
   "metadata": {},
   "source": [
    "Code for **deconvolution** .\n",
    "\n",
    "You can play with parameters and see how they affect the result. "
   ]
  },
  {
   "cell_type": "markdown",
   "metadata": {},
   "source": [
    "# Import libs"
   ]
  },
  {
   "cell_type": "code",
   "execution_count": 1,
   "metadata": {},
   "outputs": [],
   "source": [
    "from __future__ import print_function\n",
    "import matplotlib.pyplot as plt\n",
    "%matplotlib inline\n",
    "\n",
    "import argparse\n",
    "import os\n",
    "os.environ['CUDA_VISIBLE_DEVICES'] = '0'\n",
    "\n",
    "import numpy as np\n",
    "from models import *\n",
    "\n",
    "import torch\n",
    "import torch.optim\n",
    "\n",
    "from skimage.measure import compare_psnr\n",
    "from models.convolution import Convolution\n",
    "\n",
    "from utils.sr_utils import *\n",
    "\n",
    "torch.backends.cudnn.enabled = True\n",
    "torch.backends.cudnn.benchmark =True\n",
    "dtype = torch.cuda.FloatTensor\n",
    "#dtype = torch.FloatTensor\n"
   ]
  },
  {
   "cell_type": "markdown",
   "metadata": {},
   "source": [
    "# Set up parameters and net"
   ]
  },
  {
   "cell_type": "code",
   "execution_count": 2,
   "metadata": {},
   "outputs": [],
   "source": [
    "input_depth = 32\n",
    " \n",
    "INPUT =     'noise'\n",
    "pad   =     'reflection'\n",
    "OPT_OVER =  'net'\n",
    "KERNEL_TYPE='udf'\n",
    "\n",
    "LR = 0.01\n",
    "tv_weight = 0.0\n",
    "\n",
    "num_iter=5000\n",
    "OPTIMIZER = 'adam'\n",
    "\n",
    "PLOT = True"
   ]
  },
  {
   "cell_type": "markdown",
   "metadata": {},
   "source": [
    "# Define closure and optimize"
   ]
  },
  {
   "cell_type": "code",
   "execution_count": 3,
   "metadata": {},
   "outputs": [],
   "source": [
    "def closure():\n",
    "    global i, net_input,info_dict,X,psnr_HR_max\n",
    "    \n",
    "    reg_noise_std = 0.01\n",
    "    net_input = net_input_saved + (noise.normal_() * reg_noise_std)\n",
    "\n",
    "    out_HR = net(net_input)\n",
    "    out_LR = convolution(out_HR)\n",
    "\n",
    "    total_loss = mse(out_LR, img_LR_var) \n",
    "    mse_arr[i] = total_loss\n",
    "        \n",
    "    if tv_weight > 0:\n",
    "        total_loss += tv_weight * tv_loss(out_HR)\n",
    "        \n",
    "    total_loss.backward()\n",
    "\n",
    "    # Log\n",
    "    psnr_LR = compare_psnr(img_lr_np, torch_to_np(out_LR))\n",
    "    psnr_HR = compare_psnr(img_hr_np, torch_to_np(out_HR))\n",
    "    print ('Iteration %05d    PSNR_LR %.3f   PSNR_HR %.3f' % (i, psnr_LR, psnr_HR), '\\r', end='')\n",
    "                      \n",
    "    # History\n",
    "    psnr_history.append([psnr_LR, psnr_HR])\n",
    "    \n",
    "    #if PLOT and i % 100 == 0:\n",
    "    #    out_HR_np = torch_to_np(out_HR)\n",
    "    #    plot_image_grid([img_hr_np, np.clip(out_HR_np, 0, 1)], factor=13, nrow=3)\n",
    "    \n",
    "    if psnr_HR > psnr_HR_max:\n",
    "        psnr_HR_max = psnr_HR\n",
    "        X = torch_to_np(out_HR)\n",
    "    i += 1\n",
    "    if  i == num_iter:\n",
    "        info_dict = {'mse': mse_arr, 'psnr_HR':psnr_HR_max, 'X': X}\n",
    "      \n",
    "    return total_loss"
   ]
  },
  {
   "cell_type": "code",
   "execution_count": 4,
   "metadata": {},
   "outputs": [
    {
     "name": "stdout",
     "output_type": "stream",
     "text": [
      "Starting optimization with ADAM\n"
     ]
    },
    {
     "name": "stderr",
     "output_type": "stream",
     "text": [
      "/home/Vivien/miniconda3/envs/dip/lib/python3.6/site-packages/torch/nn/modules/upsampling.py:129: UserWarning: nn.Upsample is deprecated. Use nn.functional.interpolate instead.\n",
      "  warnings.warn(\"nn.{} is deprecated. Use nn.functional.interpolate instead.\".format(self.name))\n",
      "/home/Vivien/miniconda3/envs/dip/lib/python3.6/site-packages/torch/nn/functional.py:2423: UserWarning: Default upsampling behavior when mode=bilinear is changed to align_corners=False since 0.4.0. Please specify align_corners=True if the old behavior is desired. See the documentation of nn.Upsample for details.\n",
      "  \"See the documentation of nn.Upsample for details.\".format(mode))\n"
     ]
    },
    {
     "name": "stdout",
     "output_type": "stream",
     "text": [
      "Starting optimization with ADAM49   PSNR_HR 27.074 \n",
      "Starting optimization with ADAM86   PSNR_HR 31.708 \n",
      "Starting optimization with ADAM45   PSNR_HR 29.394 \n",
      "Starting optimization with ADAM04   PSNR_HR 29.651 \n",
      "Starting optimization with ADAM90   PSNR_HR 28.426 \n",
      "Iteration 04999    PSNR_LR 40.194   PSNR_HR 29.897 \r"
     ]
    }
   ],
   "source": [
    "result = dict()\n",
    "for photo in ['Cameraman256', 'Lena512','image_House256rgb','image_Peppers512rgb','boat512','house256']:\n",
    "    photo_dict = dict()\n",
    "    path_HR_image = 'data/sr/images/' + photo +'.png'\n",
    "    for kernel in ['motion']:#['gauss','motion','defocus']:\n",
    "        if kernel == 'gauss':\n",
    "            kernel_path ='data/sr/kernels/kernel_gauss.mat'\n",
    "            path_LR_image = 'data/sr/images/'+ photo +'_gauss.png'\n",
    "        elif kernel == 'motion':\n",
    "            kernel_path ='data/sr/kernels/kernel_motionblur.mat'\n",
    "            path_LR_image = 'data/sr/images/'+ photo +'_motion.png'\n",
    "        elif kernel == 'defocus':\n",
    "            kernel_path ='data/sr/kernels/kernel_defocus.mat'\n",
    "            path_LR_image = 'data/sr/images/'+ photo +'_defocus.png'\n",
    "        else:\n",
    "            print('no image in kernel.')\n",
    "        \n",
    "        #continue when there is no file:\n",
    "        if os.path.isfile(path_LR_image) == False:\n",
    "            continue\n",
    "        \n",
    "        ## load images\n",
    "        img_lr_pil, img_lr_np = get_image(path_LR_image, -1)\n",
    "        img_hr_pil, img_hr_np = get_image(path_HR_image, -1)\n",
    "        n_channels = img_hr_np.shape[0]\n",
    "        \n",
    "        net_input = get_noise(input_depth, INPUT, (img_hr_pil.size[1], img_hr_pil.size[0])).type(dtype).detach()\n",
    "        NET_TYPE = 'skip' # UNet, ResNet\n",
    "        net = get_net(input_depth, 'skip', pad, n_channels=n_channels, skip_n33d=128, skip_n33u=128, skip_n11=4, \n",
    "              num_scales=5, upsample_mode='bilinear').type(dtype)\n",
    "        mse = torch.nn.MSELoss().type(dtype)\n",
    "        img_LR_var = np_to_torch(img_lr_np).type(dtype)\n",
    "\n",
    "        convolution = Convolution(n_planes=n_channels, kernel_type=KERNEL_TYPE, kernel_path=kernel_path, preserve_size=True).type(dtype)\n",
    "\n",
    "        # initialization\n",
    "        psnr_history = [] \n",
    "        net_input_saved = net_input.detach().clone()\n",
    "        noise = net_input.detach().clone()\n",
    "        \n",
    "        i=0\n",
    "        p = get_params(OPT_OVER, net, net_input)\n",
    "        mse_arr = np.zeros(num_iter)\n",
    "        info_dict = dict()\n",
    "        X = 0\n",
    "        psnr_HR_max = 0\n",
    "\n",
    "        # call network\n",
    "        optimize(OPTIMIZER, p, closure, LR, num_iter)\n",
    "\n",
    "        # save result\n",
    "        kernel_dict = dict()\n",
    "        kernel_dict['info'] = info_dict\n",
    "        photo_dict[kernel] = kernel_dict\n",
    "        result[photo]=photo_dict"
   ]
  },
  {
   "cell_type": "code",
   "execution_count": 5,
   "metadata": {},
   "outputs": [],
   "source": [
    "np.save('result_motion.npy',result)"
   ]
  },
  {
   "cell_type": "code",
   "execution_count": 6,
   "metadata": {},
   "outputs": [],
   "source": [
    "#result_ = np.load('result.npy').item()\n",
    "#result_['house256']['gauss']['info']['psnr_HR']"
   ]
  }
 ],
 "metadata": {
  "kernelspec": {
   "display_name": "Python 3",
   "language": "python",
   "name": "python3"
  },
  "language_info": {
   "codemirror_mode": {
    "name": "ipython",
    "version": 3
   },
   "file_extension": ".py",
   "mimetype": "text/x-python",
   "name": "python",
   "nbconvert_exporter": "python",
   "pygments_lexer": "ipython3",
   "version": "3.6.8"
  }
 },
 "nbformat": 4,
 "nbformat_minor": 2
}
